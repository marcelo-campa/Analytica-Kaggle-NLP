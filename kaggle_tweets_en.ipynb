{
 "cells": [
  {
   "cell_type": "markdown",
   "metadata": {},
   "source": [
    "![logo](./img/logo_desafio.png)"
   ]
  },
  {
   "cell_type": "markdown",
   "metadata": {},
   "source": [
    "# Natural Language Processing with Disaster Tweets Challenge"
   ]
  },
  {
   "cell_type": "markdown",
   "metadata": {},
   "source": [
    "The [challenge](https://www.kaggle.com/c/nlp-getting-started) consists of a text classification problem. More specifically, it deals with tweets classification, which can be related to real disasters or not. For this, we will use Natural Language Processing (NLP) tools, as well as Machine Learning.\n",
    "\n",
    "On this notebook, we'll deal with\n",
    "\n",
    "- \"Tweet Tokenizer\" for tweets tokenization \n",
    "- \"Word Vectors\"\n",
    "- SVC and Logistic Regression as classifiers\n",
    "\n",
    "We'll also explain future improvements at the end of this document"
   ]
  },
  {
   "cell_type": "code",
   "execution_count": 1,
   "metadata": {},
   "outputs": [],
   "source": [
    "# Importing Libs\n",
    "\n",
    "import pandas as pd\n",
    "import numpy as np\n",
    "import zipfile\n",
    "from nltk.corpus import stopwords\n",
    "from nltk.tokenize import word_tokenize, sent_tokenize\n",
    "from sklearn.model_selection import train_test_split\n",
    "from sklearn.feature_extraction.text import CountVectorizer, TfidfVectorizer\n",
    "from scipy.sparse import csr_matrix\n",
    "from tqdm import tqdm"
   ]
  },
  {
   "cell_type": "code",
   "execution_count": 2,
   "metadata": {},
   "outputs": [],
   "source": [
    "# Loading train and Test datasets\n",
    "\n",
    "zf = zipfile.ZipFile('./data/nlp-getting-started.zip')\n",
    "train = pd.read_csv(zf.open('train.csv'))\n",
    "test = pd.read_csv(zf.open('test.csv'))"
   ]
  },
  {
   "cell_type": "code",
   "execution_count": 3,
   "metadata": {},
   "outputs": [
    {
     "data": {
      "text/html": [
       "<div>\n",
       "<style scoped>\n",
       "    .dataframe tbody tr th:only-of-type {\n",
       "        vertical-align: middle;\n",
       "    }\n",
       "\n",
       "    .dataframe tbody tr th {\n",
       "        vertical-align: top;\n",
       "    }\n",
       "\n",
       "    .dataframe thead th {\n",
       "        text-align: right;\n",
       "    }\n",
       "</style>\n",
       "<table border=\"1\" class=\"dataframe\">\n",
       "  <thead>\n",
       "    <tr style=\"text-align: right;\">\n",
       "      <th></th>\n",
       "      <th>id</th>\n",
       "      <th>keyword</th>\n",
       "      <th>location</th>\n",
       "      <th>text</th>\n",
       "      <th>target</th>\n",
       "    </tr>\n",
       "  </thead>\n",
       "  <tbody>\n",
       "    <tr>\n",
       "      <th>0</th>\n",
       "      <td>1</td>\n",
       "      <td>NaN</td>\n",
       "      <td>NaN</td>\n",
       "      <td>Our Deeds are the Reason of this #earthquake M...</td>\n",
       "      <td>1</td>\n",
       "    </tr>\n",
       "    <tr>\n",
       "      <th>1</th>\n",
       "      <td>4</td>\n",
       "      <td>NaN</td>\n",
       "      <td>NaN</td>\n",
       "      <td>Forest fire near La Ronge Sask. Canada</td>\n",
       "      <td>1</td>\n",
       "    </tr>\n",
       "    <tr>\n",
       "      <th>2</th>\n",
       "      <td>5</td>\n",
       "      <td>NaN</td>\n",
       "      <td>NaN</td>\n",
       "      <td>All residents asked to 'shelter in place' are ...</td>\n",
       "      <td>1</td>\n",
       "    </tr>\n",
       "  </tbody>\n",
       "</table>\n",
       "</div>"
      ],
      "text/plain": [
       "   id keyword location                                               text  \\\n",
       "0   1     NaN      NaN  Our Deeds are the Reason of this #earthquake M...   \n",
       "1   4     NaN      NaN             Forest fire near La Ronge Sask. Canada   \n",
       "2   5     NaN      NaN  All residents asked to 'shelter in place' are ...   \n",
       "\n",
       "   target  \n",
       "0       1  \n",
       "1       1  \n",
       "2       1  "
      ]
     },
     "execution_count": 3,
     "metadata": {},
     "output_type": "execute_result"
    }
   ],
   "source": [
    "train.head(3)"
   ]
  },
  {
   "cell_type": "code",
   "execution_count": 4,
   "metadata": {},
   "outputs": [
    {
     "data": {
      "text/html": [
       "<div>\n",
       "<style scoped>\n",
       "    .dataframe tbody tr th:only-of-type {\n",
       "        vertical-align: middle;\n",
       "    }\n",
       "\n",
       "    .dataframe tbody tr th {\n",
       "        vertical-align: top;\n",
       "    }\n",
       "\n",
       "    .dataframe thead th {\n",
       "        text-align: right;\n",
       "    }\n",
       "</style>\n",
       "<table border=\"1\" class=\"dataframe\">\n",
       "  <thead>\n",
       "    <tr style=\"text-align: right;\">\n",
       "      <th></th>\n",
       "      <th>id</th>\n",
       "      <th>keyword</th>\n",
       "      <th>location</th>\n",
       "      <th>text</th>\n",
       "    </tr>\n",
       "  </thead>\n",
       "  <tbody>\n",
       "    <tr>\n",
       "      <th>0</th>\n",
       "      <td>0</td>\n",
       "      <td>NaN</td>\n",
       "      <td>NaN</td>\n",
       "      <td>Just happened a terrible car crash</td>\n",
       "    </tr>\n",
       "    <tr>\n",
       "      <th>1</th>\n",
       "      <td>2</td>\n",
       "      <td>NaN</td>\n",
       "      <td>NaN</td>\n",
       "      <td>Heard about #earthquake is different cities, s...</td>\n",
       "    </tr>\n",
       "    <tr>\n",
       "      <th>2</th>\n",
       "      <td>3</td>\n",
       "      <td>NaN</td>\n",
       "      <td>NaN</td>\n",
       "      <td>there is a forest fire at spot pond, geese are...</td>\n",
       "    </tr>\n",
       "  </tbody>\n",
       "</table>\n",
       "</div>"
      ],
      "text/plain": [
       "   id keyword location                                               text\n",
       "0   0     NaN      NaN                 Just happened a terrible car crash\n",
       "1   2     NaN      NaN  Heard about #earthquake is different cities, s...\n",
       "2   3     NaN      NaN  there is a forest fire at spot pond, geese are..."
      ]
     },
     "execution_count": 4,
     "metadata": {},
     "output_type": "execute_result"
    }
   ],
   "source": [
    "test.head(3)"
   ]
  },
  {
   "cell_type": "code",
   "execution_count": 5,
   "metadata": {},
   "outputs": [
    {
     "name": "stdout",
     "output_type": "stream",
     "text": [
      "<class 'pandas.core.frame.DataFrame'>\n",
      "RangeIndex: 7613 entries, 0 to 7612\n",
      "Data columns (total 5 columns):\n",
      " #   Column    Non-Null Count  Dtype \n",
      "---  ------    --------------  ----- \n",
      " 0   id        7613 non-null   int64 \n",
      " 1   keyword   7552 non-null   object\n",
      " 2   location  5080 non-null   object\n",
      " 3   text      7613 non-null   object\n",
      " 4   target    7613 non-null   int64 \n",
      "dtypes: int64(2), object(3)\n",
      "memory usage: 297.5+ KB\n"
     ]
    }
   ],
   "source": [
    "train.info()"
   ]
  },
  {
   "cell_type": "code",
   "execution_count": 6,
   "metadata": {},
   "outputs": [
    {
     "name": "stdout",
     "output_type": "stream",
     "text": [
      "<class 'pandas.core.frame.DataFrame'>\n",
      "RangeIndex: 3263 entries, 0 to 3262\n",
      "Data columns (total 4 columns):\n",
      " #   Column    Non-Null Count  Dtype \n",
      "---  ------    --------------  ----- \n",
      " 0   id        3263 non-null   int64 \n",
      " 1   keyword   3237 non-null   object\n",
      " 2   location  2158 non-null   object\n",
      " 3   text      3263 non-null   object\n",
      "dtypes: int64(1), object(3)\n",
      "memory usage: 102.1+ KB\n"
     ]
    }
   ],
   "source": [
    "test.info()"
   ]
  },
  {
   "cell_type": "markdown",
   "metadata": {},
   "source": [
    "The `'Keyword'` column has some potential, as it hasn't much missing values. However, we will start our analysis with solutions focused on the content of documents."
   ]
  },
  {
   "cell_type": "markdown",
   "metadata": {},
   "source": [
    "## Default Tokenizer"
   ]
  },
  {
   "cell_type": "markdown",
   "metadata": {},
   "source": [
    "Tokenizers are tools that helps us transforming sentences into separate words. As an example, the sentence `'Three people died from the heat wave so far'`, picked from the train dataset, is transformed in a list, in which every word is a token. The result is\n",
    "\n",
    "```['Three', 'people', 'died', 'from', 'the', 'heat', 'wave', 'so', 'far']```\n"
   ]
  },
  {
   "cell_type": "code",
   "execution_count": 7,
   "metadata": {},
   "outputs": [],
   "source": [
    "stop_words_nltk = list(stopwords.words('english'))\n",
    "count_vectorizer = CountVectorizer(stop_words='english')\n",
    "count_train = count_vectorizer.fit_transform(train['text'].values)"
   ]
  },
  {
   "cell_type": "code",
   "execution_count": 8,
   "metadata": {},
   "outputs": [
    {
     "data": {
      "text/plain": [
       "array([[0, 0, 0, ..., 0, 0, 0],\n",
       "       [0, 0, 0, ..., 0, 0, 0],\n",
       "       [0, 0, 0, ..., 0, 0, 0],\n",
       "       ...,\n",
       "       [0, 0, 0, ..., 0, 0, 0],\n",
       "       [0, 0, 0, ..., 0, 0, 0],\n",
       "       [0, 0, 0, ..., 0, 0, 0]], dtype=int64)"
      ]
     },
     "execution_count": 8,
     "metadata": {},
     "output_type": "execute_result"
    }
   ],
   "source": [
    "csr_matrix(count_train).toarray()"
   ]
  },
  {
   "cell_type": "code",
   "execution_count": 10,
   "metadata": {},
   "outputs": [
    {
     "data": {
      "text/plain": [
       "'Three people died from the heat wave so far'"
      ]
     },
     "execution_count": 10,
     "metadata": {},
     "output_type": "execute_result"
    }
   ],
   "source": [
    "# Picking a sentence to be tokenized\n",
    "\n",
    "train['text'].values[10]"
   ]
  },
  {
   "cell_type": "code",
   "execution_count": 12,
   "metadata": {},
   "outputs": [
    {
     "data": {
      "text/plain": [
       "['Three', 'people', 'died', 'from', 'the', 'heat', 'wave', 'so', 'far']"
      ]
     },
     "execution_count": 12,
     "metadata": {},
     "output_type": "execute_result"
    }
   ],
   "source": [
    "# Checking the tokenized sentence\n",
    "\n",
    "word_tokenize(train['text'][10])"
   ]
  },
  {
   "cell_type": "markdown",
   "metadata": {},
   "source": [
    "## Tweet tokenizer"
   ]
  },
  {
   "cell_type": "markdown",
   "metadata": {},
   "source": [
    "The tokenizer mentioned above was made with common texts in mind. However, we know that tweets have their own characteristics, such as the use of emojis, hashtags and various abbreviations.\n",
    "\n",
    "With that in mind, we opted to test the Tweet Tokenizer, a tokenizer in the NLTK library optimized for analyzing Twitter texts."
   ]
  },
  {
   "cell_type": "code",
   "execution_count": 13,
   "metadata": {},
   "outputs": [],
   "source": [
    "from nltk.tokenize import TweetTokenizer\n",
    "\n",
    "def tweet_tokenize_column(df, column):\n",
    "    \"\"\"     \n",
    "        This function gets the Dataframe and the name of a column (String) containing texts (Strings) and returns\n",
    "        a list of lists containing the tokenized text. It also turns every token to it's lower form and excludes\n",
    "        stopwords.\n",
    "        \n",
    "        Essa funcao recebe o Dataframe e o nome de uma coluna (String) contendo textos (Strings), e retorna uma lista\n",
    "        de listas contendo o texto tokenizado. A funcao tambem transforma todas as letras maiusculas em minusculas e \n",
    "        exclui stopwords.\n",
    "        \n",
    "        Input: Pandas DataFrame, String\n",
    "        Return: Nested List\n",
    "    \"\"\"\n",
    "    \n",
    "    tweet_tokenizer = TweetTokenizer()\n",
    "    \n",
    "    # List of sentences / Lista de sentencas\n",
    "    list_sent = [tweet_tokenizer.tokenize(sent) for sent in df[column].values]\n",
    "    \n",
    "    # List of sentences excluding stopword tokens / Lista de sentencas excluindo stopwords\n",
    "    list_sent_no_stop = [[token.lower() \n",
    "                           for token in sent \n",
    "                           if token not in stopwords.words('english')] \n",
    "                           for sent in list_sent]\n",
    "    \n",
    "    return list_sent_no_stop"
   ]
  },
  {
   "cell_type": "code",
   "execution_count": 14,
   "metadata": {},
   "outputs": [],
   "source": [
    "# Using the function on train and test datasets\n",
    "\n",
    "tokenized_sent_train = tweet_tokenize_column(train,'text')\n",
    "tokenized_sent_test = tweet_tokenize_column(test,'text')"
   ]
  },
  {
   "cell_type": "markdown",
   "metadata": {},
   "source": [
    "We can see the difference of the tokenizers. On this one, we observe that the tokenization of hashtags were improved."
   ]
  },
  {
   "cell_type": "code",
   "execution_count": 15,
   "metadata": {},
   "outputs": [
    {
     "data": {
      "text/plain": [
       "[['our', 'deeds', 'reason', '#earthquake', 'may', 'allah', 'forgive', 'us'],\n",
       " ['forest', 'fire', 'near', 'la', 'ronge', 'sask', '.', 'canada']]"
      ]
     },
     "execution_count": 15,
     "metadata": {},
     "output_type": "execute_result"
    }
   ],
   "source": [
    "tokenized_sent_train[:2]"
   ]
  },
  {
   "cell_type": "code",
   "execution_count": 16,
   "metadata": {},
   "outputs": [
    {
     "data": {
      "text/plain": [
       "[['just', 'happened', 'terrible', 'car', 'crash'],\n",
       " ['heard',\n",
       "  '#earthquake',\n",
       "  'different',\n",
       "  'cities',\n",
       "  ',',\n",
       "  'stay',\n",
       "  'safe',\n",
       "  'everyone',\n",
       "  '.']]"
      ]
     },
     "execution_count": 16,
     "metadata": {},
     "output_type": "execute_result"
    }
   ],
   "source": [
    "tokenized_sent_test[:2]"
   ]
  },
  {
   "cell_type": "markdown",
   "metadata": {},
   "source": [
    "We will create a list of lists containing all tokenized tweets from both training and testing. This is a way to ensure an unified analysis by TF-IDF, which will be explained later."
   ]
  },
  {
   "cell_type": "code",
   "execution_count": 17,
   "metadata": {},
   "outputs": [],
   "source": [
    "tokenized_sent_all = tokenized_sent_train + tokenized_sent_test"
   ]
  },
  {
   "cell_type": "markdown",
   "metadata": {},
   "source": [
    "## TF-IDF\n",
    "\n",
    "The TF-IDF (Term Frequency - Inverse Document Frequency) is a numerical statistic that gives us the importance of a given word in a set of documents (corpus). Intuitively, a word (token) has a high TF-IDF score if\n",
    "\n",
    "- It has a high number of occurrences on a single document\n",
    "e\n",
    "- It has a low number of ocurrences on all documents\n",
    "\n",
    "This 'number' is a result of the product of the 'TF' and the 'IDF', which are calculated as follows\n",
    "\n",
    "\\begin{align}\n",
    "    \\operatorname{tf}(t, d)&=\\frac{f_{t, d}}{\\sum_{t^{\\prime} \\in d} f_{t^{\\prime}, d}}\\\\\\\\\n",
    "    \\operatorname{idf}(t, D)&=\\log \\frac{N}{|\\{d \\in D: t \\in d\\}|}\\\\\\\\\n",
    "    \\operatorname{tfidf}(t, d, D)&=\\operatorname{tf}(t, d) \\cdot \\operatorname{idf}(t, D)\n",
    "\\end{align}\n",
    "\n",
    "All terms can be seen in depth on [this link](https://en.wikipedia.org/wiki/Tf%E2%80%93idf).\n",
    "\n",
    "Now, let's apply the TF-IDF."
   ]
  },
  {
   "cell_type": "code",
   "execution_count": 18,
   "metadata": {},
   "outputs": [
    {
     "name": "stderr",
     "output_type": "stream",
     "text": [
      "C:\\Users\\Rafael\\anaconda3\\lib\\site-packages\\sklearn\\feature_extraction\\text.py:383: UserWarning: Your stop_words may be inconsistent with your preprocessing. Tokenizing the stop words generated tokens ['b', 'c', 'd', 'e', 'f', 'g', 'h', 'k', 'l', 'm', 'n', 'o', 'p', 'r', 's', 't', 'u', 'v', 'w', 'x', 'y'] not in stop_words.\n",
      "  warnings.warn('Your stop_words may be inconsistent with '\n"
     ]
    },
    {
     "data": {
      "text/plain": [
       "['#hail', '#haildamage']"
      ]
     },
     "execution_count": 18,
     "metadata": {},
     "output_type": "execute_result"
    }
   ],
   "source": [
    "# Auxiliar function to bypass the tokenizer, as this step had already been done\n",
    "\n",
    "def identity_tokenizer(text):\n",
    "    return text\n",
    "\n",
    "tfidf_all = TfidfVectorizer(tokenizer=identity_tokenizer, stop_words='english', lowercase=False)    \n",
    "tfidf_all_fit = tfidf_all.fit_transform(tokenized_sent_all)\n",
    "\n",
    "tfidf_all.get_feature_names()[1000:1002]\n"
   ]
  },
  {
   "cell_type": "markdown",
   "metadata": {},
   "source": [
    "Note that because TF-IDF was done on all documents both from the train and test datasets, we calculate the scores by treating this aggregated list as a new corpus. This is positive as we will have this score based on more data, tending to give us a more realistic information.\n"
   ]
  },
  {
   "cell_type": "code",
   "execution_count": 19,
   "metadata": {},
   "outputs": [],
   "source": [
    "# Creating an unified dataframe. The firs 'n' lines there are data about the train dataset, and on the 'm' following\n",
    "# lines we have data from the test dataset. 'm' is the number of train documents and 'n' is the number of test \n",
    "# documents.\n",
    "\n",
    "tfidf_all_df = pd.DataFrame(tfidf_all_fit.toarray(), columns=tfidf_all.get_feature_names())"
   ]
  },
  {
   "cell_type": "code",
   "execution_count": 20,
   "metadata": {},
   "outputs": [
    {
     "data": {
      "text/html": [
       "<div>\n",
       "<style scoped>\n",
       "    .dataframe tbody tr th:only-of-type {\n",
       "        vertical-align: middle;\n",
       "    }\n",
       "\n",
       "    .dataframe tbody tr th {\n",
       "        vertical-align: top;\n",
       "    }\n",
       "\n",
       "    .dataframe thead th {\n",
       "        text-align: right;\n",
       "    }\n",
       "</style>\n",
       "<table border=\"1\" class=\"dataframe\">\n",
       "  <thead>\n",
       "    <tr style=\"text-align: right;\">\n",
       "      <th></th>\n",
       "      <th>!</th>\n",
       "      <th>#</th>\n",
       "      <th>##book</th>\n",
       "      <th>##fukushima</th>\n",
       "      <th>##youtube</th>\n",
       "      <th>#0215</th>\n",
       "      <th>#034</th>\n",
       "      <th>#039</th>\n",
       "      <th>#05</th>\n",
       "      <th>#0518</th>\n",
       "      <th>...</th>\n",
       "      <th>ûó</th>\n",
       "      <th>ûócategorically</th>\n",
       "      <th>ûóher</th>\n",
       "      <th>ûókaiserjaegers</th>\n",
       "      <th>ûókill</th>\n",
       "      <th>ûókody</th>\n",
       "      <th>ûónegligence</th>\n",
       "      <th>ûótech</th>\n",
       "      <th>ûówe</th>\n",
       "      <th>ûówere</th>\n",
       "    </tr>\n",
       "  </thead>\n",
       "  <tbody>\n",
       "    <tr>\n",
       "      <th>0</th>\n",
       "      <td>0.0</td>\n",
       "      <td>0.0</td>\n",
       "      <td>0.0</td>\n",
       "      <td>0.0</td>\n",
       "      <td>0.0</td>\n",
       "      <td>0.0</td>\n",
       "      <td>0.0</td>\n",
       "      <td>0.0</td>\n",
       "      <td>0.0</td>\n",
       "      <td>0.0</td>\n",
       "      <td>...</td>\n",
       "      <td>0.0</td>\n",
       "      <td>0.0</td>\n",
       "      <td>0.0</td>\n",
       "      <td>0.0</td>\n",
       "      <td>0.0</td>\n",
       "      <td>0.0</td>\n",
       "      <td>0.0</td>\n",
       "      <td>0.0</td>\n",
       "      <td>0.0</td>\n",
       "      <td>0.0</td>\n",
       "    </tr>\n",
       "    <tr>\n",
       "      <th>1</th>\n",
       "      <td>0.0</td>\n",
       "      <td>0.0</td>\n",
       "      <td>0.0</td>\n",
       "      <td>0.0</td>\n",
       "      <td>0.0</td>\n",
       "      <td>0.0</td>\n",
       "      <td>0.0</td>\n",
       "      <td>0.0</td>\n",
       "      <td>0.0</td>\n",
       "      <td>0.0</td>\n",
       "      <td>...</td>\n",
       "      <td>0.0</td>\n",
       "      <td>0.0</td>\n",
       "      <td>0.0</td>\n",
       "      <td>0.0</td>\n",
       "      <td>0.0</td>\n",
       "      <td>0.0</td>\n",
       "      <td>0.0</td>\n",
       "      <td>0.0</td>\n",
       "      <td>0.0</td>\n",
       "      <td>0.0</td>\n",
       "    </tr>\n",
       "    <tr>\n",
       "      <th>2</th>\n",
       "      <td>0.0</td>\n",
       "      <td>0.0</td>\n",
       "      <td>0.0</td>\n",
       "      <td>0.0</td>\n",
       "      <td>0.0</td>\n",
       "      <td>0.0</td>\n",
       "      <td>0.0</td>\n",
       "      <td>0.0</td>\n",
       "      <td>0.0</td>\n",
       "      <td>0.0</td>\n",
       "      <td>...</td>\n",
       "      <td>0.0</td>\n",
       "      <td>0.0</td>\n",
       "      <td>0.0</td>\n",
       "      <td>0.0</td>\n",
       "      <td>0.0</td>\n",
       "      <td>0.0</td>\n",
       "      <td>0.0</td>\n",
       "      <td>0.0</td>\n",
       "      <td>0.0</td>\n",
       "      <td>0.0</td>\n",
       "    </tr>\n",
       "    <tr>\n",
       "      <th>3</th>\n",
       "      <td>0.0</td>\n",
       "      <td>0.0</td>\n",
       "      <td>0.0</td>\n",
       "      <td>0.0</td>\n",
       "      <td>0.0</td>\n",
       "      <td>0.0</td>\n",
       "      <td>0.0</td>\n",
       "      <td>0.0</td>\n",
       "      <td>0.0</td>\n",
       "      <td>0.0</td>\n",
       "      <td>...</td>\n",
       "      <td>0.0</td>\n",
       "      <td>0.0</td>\n",
       "      <td>0.0</td>\n",
       "      <td>0.0</td>\n",
       "      <td>0.0</td>\n",
       "      <td>0.0</td>\n",
       "      <td>0.0</td>\n",
       "      <td>0.0</td>\n",
       "      <td>0.0</td>\n",
       "      <td>0.0</td>\n",
       "    </tr>\n",
       "    <tr>\n",
       "      <th>4</th>\n",
       "      <td>0.0</td>\n",
       "      <td>0.0</td>\n",
       "      <td>0.0</td>\n",
       "      <td>0.0</td>\n",
       "      <td>0.0</td>\n",
       "      <td>0.0</td>\n",
       "      <td>0.0</td>\n",
       "      <td>0.0</td>\n",
       "      <td>0.0</td>\n",
       "      <td>0.0</td>\n",
       "      <td>...</td>\n",
       "      <td>0.0</td>\n",
       "      <td>0.0</td>\n",
       "      <td>0.0</td>\n",
       "      <td>0.0</td>\n",
       "      <td>0.0</td>\n",
       "      <td>0.0</td>\n",
       "      <td>0.0</td>\n",
       "      <td>0.0</td>\n",
       "      <td>0.0</td>\n",
       "      <td>0.0</td>\n",
       "    </tr>\n",
       "  </tbody>\n",
       "</table>\n",
       "<p>5 rows × 29720 columns</p>\n",
       "</div>"
      ],
      "text/plain": [
       "     !    #  ##book  ##fukushima  ##youtube  #0215  #034  #039  #05  #0518  \\\n",
       "0  0.0  0.0     0.0          0.0        0.0    0.0   0.0   0.0  0.0    0.0   \n",
       "1  0.0  0.0     0.0          0.0        0.0    0.0   0.0   0.0  0.0    0.0   \n",
       "2  0.0  0.0     0.0          0.0        0.0    0.0   0.0   0.0  0.0    0.0   \n",
       "3  0.0  0.0     0.0          0.0        0.0    0.0   0.0   0.0  0.0    0.0   \n",
       "4  0.0  0.0     0.0          0.0        0.0    0.0   0.0   0.0  0.0    0.0   \n",
       "\n",
       "   ...   ûó  ûócategorically  ûóher  ûókaiserjaegers  ûókill  ûókody  \\\n",
       "0  ...  0.0              0.0    0.0              0.0     0.0     0.0   \n",
       "1  ...  0.0              0.0    0.0              0.0     0.0     0.0   \n",
       "2  ...  0.0              0.0    0.0              0.0     0.0     0.0   \n",
       "3  ...  0.0              0.0    0.0              0.0     0.0     0.0   \n",
       "4  ...  0.0              0.0    0.0              0.0     0.0     0.0   \n",
       "\n",
       "   ûónegligence  ûótech  ûówe  ûówere  \n",
       "0           0.0     0.0   0.0     0.0  \n",
       "1           0.0     0.0   0.0     0.0  \n",
       "2           0.0     0.0   0.0     0.0  \n",
       "3           0.0     0.0   0.0     0.0  \n",
       "4           0.0     0.0   0.0     0.0  \n",
       "\n",
       "[5 rows x 29720 columns]"
      ]
     },
     "execution_count": 20,
     "metadata": {},
     "output_type": "execute_result"
    }
   ],
   "source": [
    "tfidf_all_df.head()"
   ]
  },
  {
   "cell_type": "code",
   "execution_count": 22,
   "metadata": {},
   "outputs": [],
   "source": [
    "# Splitting the aggregated dataframe into train and test\n",
    "\n",
    "tfidf_train_df = tfidf_all_df[:len(train)]\n",
    "\n",
    "tfidf_test_df = tfidf_all_df[len(train):]\n"
   ]
  },
  {
   "cell_type": "code",
   "execution_count": 23,
   "metadata": {},
   "outputs": [
    {
     "name": "stderr",
     "output_type": "stream",
     "text": [
      "<ipython-input-23-bd25f1a68171>:3: SettingWithCopyWarning: \n",
      "A value is trying to be set on a copy of a slice from a DataFrame.\n",
      "Try using .loc[row_indexer,col_indexer] = value instead\n",
      "\n",
      "See the caveats in the documentation: https://pandas.pydata.org/pandas-docs/stable/user_guide/indexing.html#returning-a-view-versus-a-copy\n",
      "  tfidf_train_df[\"target_column\"] = train['target']\n"
     ]
    }
   ],
   "source": [
    "# Including target column on the TF-IDF train dataset\n",
    "\n",
    "tfidf_train_df[\"target_column\"] = train['target']"
   ]
  },
  {
   "cell_type": "markdown",
   "metadata": {},
   "source": [
    "## Classifiers"
   ]
  },
  {
   "cell_type": "markdown",
   "metadata": {},
   "source": [
    "### Logistic Regression"
   ]
  },
  {
   "cell_type": "code",
   "execution_count": 24,
   "metadata": {},
   "outputs": [],
   "source": [
    "from sklearn.linear_model import LogisticRegression\n",
    "from sklearn.model_selection import train_test_split, cross_val_score\n",
    "\n",
    "X = tfidf_train_df.drop(\"target_column\", axis=1)\n",
    "y = tfidf_train_df[\"target_column\"]\n",
    "\n",
    "# X_train, X_test, y_train, y_test = train_test_split(X, y, test_size=0.33, random_state=16)\n",
    "\n",
    "clf = LogisticRegression(random_state=16)\n",
    "\n",
    "scores_logistic = cross_val_score(clf, X, y, cv=5)"
   ]
  },
  {
   "cell_type": "code",
   "execution_count": 25,
   "metadata": {},
   "outputs": [
    {
     "data": {
      "text/plain": [
       "0.7047231974377979"
      ]
     },
     "execution_count": 25,
     "metadata": {},
     "output_type": "execute_result"
    }
   ],
   "source": [
    "scores_logistic.mean()"
   ]
  },
  {
   "cell_type": "code",
   "execution_count": 26,
   "metadata": {},
   "outputs": [
    {
     "name": "stdout",
     "output_type": "stream",
     "text": [
      "Training accuracy is 0.8903191908577434\n"
     ]
    }
   ],
   "source": [
    "from sklearn.metrics import accuracy_score\n",
    "\n",
    "clf.fit(X,y)\n",
    "\n",
    "y_pred = clf.predict(X)\n",
    "\n",
    "print('Training accuracy is {}'.format(accuracy_score(y, y_pred)))"
   ]
  },
  {
   "cell_type": "markdown",
   "metadata": {},
   "source": [
    "We noticed a considerable gap between the cross-validation scores and the accuracy score. We note that this may have to do with overfit, when we train on the entire training dataset, and underfit when we separate the training and testing, datasets as we train with much smaller data.\n",
    "\n",
    "The submission to Kaggle gave us a public score of 78,547%"
   ]
  },
  {
   "cell_type": "code",
   "execution_count": 27,
   "metadata": {},
   "outputs": [],
   "source": [
    "# Submission 0.78547\n",
    "\n",
    "sample_submission = pd.read_csv(zf.open('sample_submission.csv'))\n",
    "\n",
    "y_sub = clf.predict(tfidf_test_df)"
   ]
  },
  {
   "cell_type": "code",
   "execution_count": 28,
   "metadata": {},
   "outputs": [],
   "source": [
    "sub = sample_submission.copy()\n",
    "sub['target'] = y_sub\n",
    "sub.set_index('id',inplace=True)"
   ]
  },
  {
   "cell_type": "code",
   "execution_count": 29,
   "metadata": {},
   "outputs": [
    {
     "data": {
      "text/html": [
       "<div>\n",
       "<style scoped>\n",
       "    .dataframe tbody tr th:only-of-type {\n",
       "        vertical-align: middle;\n",
       "    }\n",
       "\n",
       "    .dataframe tbody tr th {\n",
       "        vertical-align: top;\n",
       "    }\n",
       "\n",
       "    .dataframe thead th {\n",
       "        text-align: right;\n",
       "    }\n",
       "</style>\n",
       "<table border=\"1\" class=\"dataframe\">\n",
       "  <thead>\n",
       "    <tr style=\"text-align: right;\">\n",
       "      <th></th>\n",
       "      <th>target</th>\n",
       "    </tr>\n",
       "    <tr>\n",
       "      <th>id</th>\n",
       "      <th></th>\n",
       "    </tr>\n",
       "  </thead>\n",
       "  <tbody>\n",
       "    <tr>\n",
       "      <th>0</th>\n",
       "      <td>1</td>\n",
       "    </tr>\n",
       "    <tr>\n",
       "      <th>2</th>\n",
       "      <td>0</td>\n",
       "    </tr>\n",
       "    <tr>\n",
       "      <th>3</th>\n",
       "      <td>1</td>\n",
       "    </tr>\n",
       "    <tr>\n",
       "      <th>9</th>\n",
       "      <td>0</td>\n",
       "    </tr>\n",
       "    <tr>\n",
       "      <th>11</th>\n",
       "      <td>1</td>\n",
       "    </tr>\n",
       "  </tbody>\n",
       "</table>\n",
       "</div>"
      ],
      "text/plain": [
       "    target\n",
       "id        \n",
       "0        1\n",
       "2        0\n",
       "3        1\n",
       "9        0\n",
       "11       1"
      ]
     },
     "execution_count": 29,
     "metadata": {},
     "output_type": "execute_result"
    }
   ],
   "source": [
    "sub.head()"
   ]
  },
  {
   "cell_type": "code",
   "execution_count": 30,
   "metadata": {},
   "outputs": [],
   "source": [
    "sub.to_csv(\"./submissions/sub_01.csv\")"
   ]
  },
  {
   "cell_type": "markdown",
   "metadata": {},
   "source": [
    "# Feature Selection"
   ]
  },
  {
   "cell_type": "markdown",
   "metadata": {},
   "source": [
    "As a way to try to reduce the overfit and improve the performance of our classifier, we chose to use the $\\chi^{2}$ and Mutual Information scores in order to select the most \"important\" variables for our model, reducing also the dimensionality of the problem."
   ]
  },
  {
   "cell_type": "code",
   "execution_count": 31,
   "metadata": {},
   "outputs": [],
   "source": [
    "from sklearn.feature_selection import mutual_info_classif, chi2\n",
    "\n",
    "# mi = mutual_info_classif(tfidf_train_df_int.drop(\"target_column\", axis=1), tfidf_train_df_int[\"target_column\"])\n",
    "# mi = pd.Series(mi)\n",
    "# mi.index = intersect_columns\n",
    "# mi.sort_values(ascending=False, inplace=True) \n",
    "\n",
    "chi = chi2(X,y)\n",
    "chi = pd.Series(chi[0])\n",
    "chi.index = X.columns\n",
    "chi.sort_values(ascending=False, inplace=True)    \n"
   ]
  },
  {
   "cell_type": "code",
   "execution_count": 32,
   "metadata": {},
   "outputs": [
    {
     "data": {
      "text/plain": [
       "?             37.196852\n",
       "california    29.250636\n",
       "suicide       24.139547\n",
       ":             24.103232\n",
       "killed        23.600085\n",
       "dtype: float64"
      ]
     },
     "execution_count": 32,
     "metadata": {},
     "output_type": "execute_result"
    }
   ],
   "source": [
    "chi[:5]"
   ]
  },
  {
   "cell_type": "code",
   "execution_count": 33,
   "metadata": {},
   "outputs": [],
   "source": [
    "chi.to_csv(\"./data/chi.csv\")"
   ]
  },
  {
   "cell_type": "markdown",
   "metadata": {},
   "source": [
    "On the cells below, we have a commented set of codes, which shows us as plots the information about the number of variables selected compared to the cross validation variance and the score itself. With this data, we can have a better understanding about the positive or negative influence of the variable selection on the model.   "
   ]
  },
  {
   "cell_type": "code",
   "execution_count": 34,
   "metadata": {},
   "outputs": [],
   "source": [
    "# atts = np.linspace(100,10000,100)\n",
    "# list_scores = []\n",
    "# list_var = []\n",
    "\n",
    "# for att in tqdm(atts):\n",
    "    \n",
    "#     list_scores.append(cross_val_score(clf, X[chi[:int(att)].index], y, cv=3).mean())\n",
    "#     list_var.append(cross_val_score(clf, X[chi[:int(att)].index], y, cv=3).var())"
   ]
  },
  {
   "cell_type": "code",
   "execution_count": 35,
   "metadata": {
    "scrolled": false
   },
   "outputs": [],
   "source": [
    "# int_atts = [int(att) for att in atts]\n",
    "\n",
    "# import matplotlib.pyplot as plt\n",
    "# import seaborn as sns\n",
    "\n",
    "# sns.set()\n",
    "# plt.figure(figsize=(14,7))\n",
    "# sns.lineplot(y=list_scores, x=int_atts)\n",
    "# # plt.axvline(x=int_atts[np.array(list_scores[5:]).argmax()+5], color='r')\n",
    "# # plt.xticks(ticks=np.arange(0.00, 0.25, 0.01))\n",
    "# plt.show()"
   ]
  },
  {
   "cell_type": "code",
   "execution_count": 36,
   "metadata": {},
   "outputs": [],
   "source": [
    "# sns.set()\n",
    "# plt.figure(figsize=(14,7))\n",
    "# sns.lineplot(y=list_var, x=int_atts)\n",
    "# # plt.axvline(x=int_atts[np.array(list_var[5:]).argmin()+5], color='r')\n",
    "# # plt.xticks(ticks=np.arange(0.00, 0.25, 0.01))\n",
    "# plt.show()"
   ]
  },
  {
   "cell_type": "code",
   "execution_count": 37,
   "metadata": {},
   "outputs": [],
   "source": [
    "# atts = np.linspace(100,10000,100)\n",
    "# list_scores_over = []\n",
    "\n",
    "# for att in tqdm(atts):\n",
    "#     clf.fit(X[chi[:int(att)].index],y)\n",
    "#     y_pred = clf.predict(X[chi[:int(att)].index])\n",
    "#     acc = accuracy_score(y, y_pred)\n",
    "    \n",
    "#     list_scores_over.append(acc)"
   ]
  },
  {
   "cell_type": "code",
   "execution_count": 38,
   "metadata": {},
   "outputs": [],
   "source": [
    "# int_atts = [int(att) for att in atts]\n",
    "\n",
    "# sns.set()\n",
    "# plt.figure(figsize=(14,7))\n",
    "# sns.lineplot(y=list_scores_over, x=int_atts)\n",
    "# # plt.axvline(x=int_atts[np.array(list_scores[5:]).argmax()+5], color='r')\n",
    "# # plt.xticks(ticks=np.arange(0.00, 0.25, 0.01))\n",
    "# plt.show()"
   ]
  },
  {
   "cell_type": "code",
   "execution_count": 39,
   "metadata": {},
   "outputs": [],
   "source": [
    "atts = np.linspace(100,10000,100)\n",
    "\n",
    "X_train, X_test, y_train, y_test = train_test_split(X, y, test_size=0.2, random_state=16)\n",
    "\n"
   ]
  },
  {
   "cell_type": "code",
   "execution_count": 40,
   "metadata": {},
   "outputs": [],
   "source": [
    "# list_scores_tts = []\n",
    "\n",
    "# for att in tqdm(atts):\n",
    "#     clf.fit(X_train[chi[:int(att)].index],y_train)\n",
    "#     y_pred = clf.predict(X_test[chi[:int(att)].index])\n",
    "#     acc = accuracy_score(y_test , y_pred)\n",
    "    \n",
    "#     list_scores_tts.append(acc)"
   ]
  },
  {
   "cell_type": "code",
   "execution_count": 41,
   "metadata": {},
   "outputs": [],
   "source": [
    "# int_atts = [int(att) for att in atts]\n",
    "\n",
    "# sns.set()\n",
    "# plt.figure(figsize=(14,7))\n",
    "# sns.lineplot(y=list_scores_tts, x=int_atts)\n",
    "# # plt.axvline(x=int_atts[np.array(list_var[5:]).argmin()+5], color='r')\n",
    "# # plt.xticks(ticks=np.arange(0.00, 0.25, 0.01))\n",
    "# plt.show()"
   ]
  },
  {
   "cell_type": "code",
   "execution_count": 42,
   "metadata": {},
   "outputs": [],
   "source": [
    "# int_atts = [int(att) for att in atts]\n",
    "# int_atts[np.array(list_scores_atts).argmax()]"
   ]
  },
  {
   "cell_type": "code",
   "execution_count": 43,
   "metadata": {},
   "outputs": [],
   "source": [
    "clf.fit(X_train[chi[:3800].index],y_train)\n",
    "\n",
    "y_pred = clf.predict(X_test[chi[:3800].index])\n",
    "\n",
    "acc = accuracy_score(y_test , y_pred)"
   ]
  },
  {
   "cell_type": "code",
   "execution_count": 44,
   "metadata": {},
   "outputs": [],
   "source": [
    "y_sub_chi = clf.predict(tfidf_test_df[chi[:3800].index])"
   ]
  },
  {
   "cell_type": "code",
   "execution_count": 45,
   "metadata": {},
   "outputs": [],
   "source": [
    "sub_chi = sample_submission.copy()\n",
    "\n",
    "sub_chi['target'] = y_sub_chi\n",
    "\n",
    "sub_chi.set_index('id',inplace=True)"
   ]
  },
  {
   "cell_type": "code",
   "execution_count": 46,
   "metadata": {},
   "outputs": [],
   "source": [
    "# Chi^2 feature selection submission\n",
    "\n",
    "sub_chi.to_csv(\"./submissions/sub_chi.csv\")"
   ]
  },
  {
   "cell_type": "markdown",
   "metadata": {},
   "source": [
    "### Suppor Vector Classifier (SVC)"
   ]
  },
  {
   "cell_type": "code",
   "execution_count": 47,
   "metadata": {},
   "outputs": [
    {
     "name": "stdout",
     "output_type": "stream",
     "text": [
      "Training accuracy is 0.8214051214707814\n"
     ]
    }
   ],
   "source": [
    "from sklearn.svm import SVC\n",
    "\n",
    "clf_svc = SVC()\n",
    "clf_svc.fit(X_train[chi[:3800].index],y_train)\n",
    "y_pred = clf_svc.predict(X_test[chi[:3800].index])\n",
    "acc = accuracy_score(y_test , y_pred)\n",
    "\n",
    "print('Training accuracy is {}'.format(acc))"
   ]
  },
  {
   "cell_type": "code",
   "execution_count": 48,
   "metadata": {},
   "outputs": [
    {
     "data": {
      "text/plain": [
       "SVC()"
      ]
     },
     "execution_count": 48,
     "metadata": {},
     "output_type": "execute_result"
    }
   ],
   "source": [
    "clf_svc.fit(tfidf_train_df[chi[:3800].index],y)"
   ]
  },
  {
   "cell_type": "code",
   "execution_count": 49,
   "metadata": {},
   "outputs": [],
   "source": [
    "y_sub_svc = clf_svc.predict(tfidf_test_df[chi[:3800].index])"
   ]
  },
  {
   "cell_type": "code",
   "execution_count": 50,
   "metadata": {},
   "outputs": [],
   "source": [
    "sub_svc = sample_submission.copy()\n",
    "sub_svc['target'] = y_sub_svc\n",
    "sub_svc.set_index('id',inplace=True)\n",
    "\n",
    "sub_svc.to_csv(\"./submissions/sub_svc_overfit.csv\")"
   ]
  },
  {
   "cell_type": "code",
   "execution_count": 51,
   "metadata": {},
   "outputs": [],
   "source": [
    "# atts = [1000,3000,5000]\n",
    "# list_scores_svc = []\n",
    "\n",
    "# for att in tqdm(atts):\n",
    "#     clf_svc.fit(X_train[chi[:int(att)].index],y_train)\n",
    "#     y_pred = clf_svc.predict(X_test[chi[:int(att)].index])\n",
    "#     acc = accuracy_score(y_test , y_pred)\n",
    "    \n",
    "#     list_scores_svc.append(acc)"
   ]
  },
  {
   "cell_type": "markdown",
   "metadata": {},
   "source": [
    "# Word Vectors"
   ]
  },
  {
   "cell_type": "markdown",
   "metadata": {},
   "source": [
    "Having in mind the solution through tokenization with TF-IDF, let's now move on to another type of abstraction, the Word Vectors. This abstraction allows us to map words as multidimensional vectors, indicating the mapping of that word not only in terms of quantity like TF-IDF, but also taking context into account.\n",
    "\n",
    "As an example, the image below represents the two most important coordinates of a series of 300 dimension word vectors (which represent words in a given context).\n",
    "\n",
    "<img src=\"./img/word_vectors_map.png\" alt=\"Vetor de Palavras\" width=\"600\"/>\n",
    "\n"
   ]
  },
  {
   "cell_type": "code",
   "execution_count": 52,
   "metadata": {},
   "outputs": [],
   "source": [
    "import spacy \n",
    "\n",
    "nlp = spacy.load('en_core_web_lg')\n",
    "\n",
    "with nlp.disable_pipes():\n",
    "    train_vecs = pd.DataFrame(np.array([nlp(text).vector for text in train.text])) # doc vectors for training set\n",
    "    test_vecs = pd.DataFrame(np.array([nlp(text).vector for text in test.text])) # doc vectors for testing set"
   ]
  },
  {
   "cell_type": "code",
   "execution_count": 53,
   "metadata": {},
   "outputs": [],
   "source": [
    "mi = mutual_info_classif(train_vecs,train.target)\n",
    "mi = pd.Series(mi)\n",
    "mi.index = train_vecs.columns\n",
    "mi.sort_values(ascending=False, inplace=True)    "
   ]
  },
  {
   "cell_type": "code",
   "execution_count": 54,
   "metadata": {},
   "outputs": [],
   "source": [
    "X_word_vec_train, X_word_vec_test, y_word_vec_train, y_word_vec_test = train_test_split(train_vecs, train.target.values, test_size=0.33, random_state=16)"
   ]
  },
  {
   "cell_type": "code",
   "execution_count": 55,
   "metadata": {},
   "outputs": [
    {
     "name": "stderr",
     "output_type": "stream",
     "text": [
      "100%|████████████████████████████████████████████████████████████████████████████████| 299/299 [12:01<00:00,  2.41s/it]\n"
     ]
    }
   ],
   "source": [
    "svc = SVC()\n",
    "\n",
    "atts = np.linspace(1, 299, 299)\n",
    "list_scores_svc = []\n",
    "\n",
    "for att in tqdm(atts):\n",
    "    svc.fit(X_word_vec_train[mi[:int(att)].index].values, y_word_vec_train)\n",
    "    y_pred = svc.predict(X_word_vec_test[mi[:int(att)].index].values)\n",
    "    acc = accuracy_score(y_word_vec_test , y_pred)\n",
    "    \n",
    "    list_scores_svc.append(acc)"
   ]
  },
  {
   "cell_type": "code",
   "execution_count": 56,
   "metadata": {},
   "outputs": [
    {
     "data": {
      "image/png": "[encoded data removed]",
      "text/plain": [
       "<Figure size 1008x504 with 1 Axes>"
      ]
     },
     "metadata": {},
     "output_type": "display_data"
    }
   ],
   "source": [
    "import seaborn as sns\n",
    "import matplotlib.pyplot as plt\n",
    "\n",
    "int_atts = [int(att) for att in atts]\n",
    "\n",
    "sns.set()\n",
    "plt.figure(figsize=(14,7))\n",
    "sns.lineplot(y=list_scores_svc, x=atts)\n",
    "plt.show()"
   ]
  },
  {
   "cell_type": "code",
   "execution_count": 57,
   "metadata": {},
   "outputs": [],
   "source": [
    "svc.fit(train_vecs.values, train.target)\n",
    "y_pred = svc.predict(test_vecs.values)\n",
    "\n",
    "sub_svc = sample_submission.copy()\n",
    "sub_svc['target'] = y_pred\n",
    "sub_svc.set_index('id',inplace=True)\n",
    "\n",
    "sub_svc.to_csv(\"./submissions/sub_svc_word_vec.csv\")"
   ]
  },
  {
   "cell_type": "markdown",
   "metadata": {},
   "source": [
    "## To-Do\n",
    "\n",
    "- Test other models ( NaiveBayes, RidgeClassifier, ...)\n",
    "- Use GridSearch to tune Hyperparameters\n"
   ]
  }
 ],
 "metadata": {
  "kernelspec": {
   "display_name": "Python 3",
   "language": "python",
   "name": "python3"
  },
  "language_info": {
   "codemirror_mode": {
    "name": "ipython",
    "version": 3
   },
   "file_extension": ".py",
   "mimetype": "text/x-python",
   "name": "python",
   "nbconvert_exporter": "python",
   "pygments_lexer": "ipython3",
   "version": "3.8.5"
  }
 },
 "nbformat": 4,
 "nbformat_minor": 4
}
